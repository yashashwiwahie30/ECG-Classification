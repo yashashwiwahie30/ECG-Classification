{
 "cells": [
  {
   "cell_type": "code",
   "execution_count": 1,
   "id": "28ba487c",
   "metadata": {},
   "outputs": [],
   "source": [
    "import numpy as np\n",
    "import pandas as pd\n",
    "import matplotlib.pyplot as plt"
   ]
  },
  {
   "cell_type": "code",
   "execution_count": 2,
   "id": "05e75bd3",
   "metadata": {},
   "outputs": [
    {
     "name": "stdout",
     "output_type": "stream",
     "text": [
      "Empty DataFrame\n",
      "Columns: [-19, -20, -21, -21.1, -21.2, -23, -23.1, -24, -23.2, -23.3, -23.4, -22, -23.5, -23.6, -25, -27, -27.1, -28, -28.1, -27.2, -27.3, -26, -26.1, -26.2, -27.4, -29, -29.1, -30, -31, -29.2, -29.3, -29.4, -29.5, -31.1, -32, -34, -33, -33.1, -35, -33.2, -33.3, -32.1, -34.1, -35.1, -36, -38, -39, -38.1, -38.2, -38.3, -38.4, -38.5, -38.6, -38.7, -42, -42.1, -42.2, -42.3, -43, -41, -41.1, -41.2, -41.3, -41.4, -44, -45, -45.1, -46, -45.2, -44.1, -45.3, -46.1, -45.4, -45.5, -46.2, -47, -47.1, -46.3, -48, -48.1, -48.2, -46.4, -46.5, -44.2, -44.3, -43.1, -43.2, -40, -37, -37.1, -36.1, -37.2, -37.3, -35.2, -37.4, -37.5, -35.3, -33.4, -32.2, -30.1, ...]\n",
      "Index: []\n",
      "\n",
      "[0 rows x 5000 columns]\n"
     ]
    }
   ],
   "source": [
    "df = pd.read_csv(\"ecg.csv\")\n",
    "print(df)"
   ]
  },
  {
   "cell_type": "code",
   "execution_count": 3,
   "id": "41842cde",
   "metadata": {},
   "outputs": [
    {
     "ename": "NameError",
     "evalue": "name 'arr1' is not defined",
     "output_type": "error",
     "traceback": [
      "\u001b[1;31m---------------------------------------------------------------------------\u001b[0m",
      "\u001b[1;31mNameError\u001b[0m                                 Traceback (most recent call last)",
      "Input \u001b[1;32mIn [3]\u001b[0m, in \u001b[0;36m<cell line: 1>\u001b[1;34m()\u001b[0m\n\u001b[1;32m----> 1\u001b[0m \u001b[43marr1\u001b[49m\n",
      "\u001b[1;31mNameError\u001b[0m: name 'arr1' is not defined"
     ]
    }
   ],
   "source": [
    "arr1"
   ]
  },
  {
   "cell_type": "code",
   "execution_count": null,
   "id": "8c84e3f3",
   "metadata": {},
   "outputs": [],
   "source": [
    "List = [1, 2, 3, 4, 5]\n",
    "Array = numpy.array(List)\n",
    "\n",
    "# Displaying the array\n",
    "print('Array:\\n', Array)\n",
    "file = open(\"file1.txt\", \"w+\")\n",
    "\n",
    "# Saving the array in a text file\n",
    "content = str(Array)\n",
    "file.write(content)\n",
    "file.close()\n",
    " \n",
    "# Displaying the contents of the text file\n",
    "file = open(\"file1.txt\", \"r\")\n",
    "content = file.read()\n",
    " \n",
    "print(\"\\nContent in file1.txt:\\n\", content)\n",
    "file.close()"
   ]
  },
  {
   "cell_type": "code",
   "execution_count": null,
   "id": "c73fd148",
   "metadata": {},
   "outputs": [],
   "source": []
  }
 ],
 "metadata": {
  "kernelspec": {
   "display_name": "Python 3 (ipykernel)",
   "language": "python",
   "name": "python3"
  },
  "language_info": {
   "codemirror_mode": {
    "name": "ipython",
    "version": 3
   },
   "file_extension": ".py",
   "mimetype": "text/x-python",
   "name": "python",
   "nbconvert_exporter": "python",
   "pygments_lexer": "ipython3",
   "version": "3.9.12"
  }
 },
 "nbformat": 4,
 "nbformat_minor": 5
}
